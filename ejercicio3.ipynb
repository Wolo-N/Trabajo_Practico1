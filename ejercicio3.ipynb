{
 "cells": [
  {
   "cell_type": "markdown",
   "metadata": {},
   "source": [
    "# Ejercicio 3\n",
    "#### Métodos computacionales:\n",
    "##### Marsili - Caracoix - Wolodarsky"
   ]
  },
  {
   "cell_type": "code",
   "execution_count": 131,
   "metadata": {},
   "outputs": [],
   "source": [
    "from matricesRalas import ListaEnlazada, MatrizRala, GaussJordan, multiplicar_matriz_vector\n",
    "import matplotlib.pyplot as plt"
   ]
  },
  {
   "cell_type": "markdown",
   "metadata": {},
   "source": [
    "Comenzamos por importar las bibiliotecas necesarias y luego armar las asignaciones correspondientes a partir de la Figura 3."
   ]
  },
  {
   "cell_type": "code",
   "execution_count": 132,
   "metadata": {},
   "outputs": [],
   "source": [
    "# a = 0\n",
    "# b = 1\n",
    "# c = 2\n",
    "# d = 3\n",
    "# e = 4\n",
    "# f = 5\n",
    "# g = 6\n",
    "# h = 7\n",
    "# i = 8\n",
    "# j = 9\n",
    "# k = 10\n",
    "\n",
    "assignments = {\n",
    "    (1, 0): 1, (5, 0): 1, (6, 0): 1, # B, F y G citan a A\n",
    "    (0, 2): 1, (0, 3): 1, (0, 4): 1, # A cita a C, D y E\n",
    "    (8, 5): 1, # I cita a F\n",
    "    (5, 6): 1, # F cita a G\n",
    "    (6, 7): 1, # G cita a H\n",
    "    (6, 8): 1, (7, 8): 1, (9, 8): 1, # G, H y J citan a A\n",
    "    (4, 10): 1 # E cita a K\n",
    "}"
   ]
  },
  {
   "cell_type": "markdown",
   "metadata": {},
   "source": [
    "Inicializamos la matriz W, cuadrada, con el tamaño correspondiente a la cantidad de papers presentados en la Figura 3. "
   ]
  },
  {
   "cell_type": "code",
   "execution_count": 133,
   "metadata": {},
   "outputs": [
    {
     "name": "stdout",
     "output_type": "stream",
     "text": [
      "MatrizRala([ \n",
      "    [ 0 0 1 1 1 0 0 0 0 0 0 ]\n",
      "    [ 1 0 0 0 0 0 0 0 0 0 0 ]\n",
      "    [ 0 0 0 0 0 0 0 0 0 0 0 ]\n",
      "    [ 0 0 0 0 0 0 0 0 0 0 0 ]\n",
      "    [ 0 0 0 0 0 0 0 0 0 0 1 ]\n",
      "    [ 1 0 0 0 0 0 1 0 0 0 0 ]\n",
      "    [ 1 0 0 0 0 0 0 1 1 0 0 ]\n",
      "    [ 0 0 0 0 0 0 0 0 1 0 0 ]\n",
      "    [ 0 0 0 0 0 1 0 0 0 0 0 ]\n",
      "    [ 0 0 0 0 0 0 0 0 1 0 0 ]\n",
      "    [ 0 0 0 0 0 0 0 0 0 0 0 ]\n",
      "])\n"
     ]
    }
   ],
   "source": [
    "len_papers = 11\n",
    "w = MatrizRala(len_papers,len_papers)\n",
    "\n",
    "# Función generadora de la matriz W (citaciones):\n",
    "def build_w(matriz, citas):\n",
    "    for indices, value in assignments.items():\n",
    "        w[indices] = value\n",
    "    return w\n",
    "\n",
    "W = build_w(w, assignments)\n",
    "print(W)"
   ]
  },
  {
   "cell_type": "markdown",
   "metadata": {},
   "source": [
    "Luego, procedemos a completar la matriz D, a matriz es una matriz diagonal en la que cada entrada contiene el valor inverso del número de citas que recibe el paper determinado."
   ]
  },
  {
   "cell_type": "code",
   "execution_count": 134,
   "metadata": {},
   "outputs": [
    {
     "name": "stdout",
     "output_type": "stream",
     "text": [
      "MatrizRala([ \n",
      "    [ 0.333 0 0 0 0 0 0 0 0 0 0 ]\n",
      "    [ 0 0 0 0 0 0 0 0 0 0 0 ]\n",
      "    [ 0 0 1 0 0 0 0 0 0 0 0 ]\n",
      "    [ 0 0 0 1 0 0 0 0 0 0 0 ]\n",
      "    [ 0 0 0 0 1 0 0 0 0 0 0 ]\n",
      "    [ 0 0 0 0 0 1 0 0 0 0 0 ]\n",
      "    [ 0 0 0 0 0 0 1 0 0 0 0 ]\n",
      "    [ 0 0 0 0 0 0 0 1 0 0 0 ]\n",
      "    [ 0 0 0 0 0 0 0 0 0.333 0 0 ]\n",
      "    [ 0 0 0 0 0 0 0 0 0 0 0 ]\n",
      "    [ 0 0 0 0 0 0 0 0 0 0 1 ]\n",
      "])\n"
     ]
    }
   ],
   "source": [
    "# Función generadora de la matriz D (probabilidad de citaciones):\n",
    "def build_d(matriz_w):\n",
    "    D = MatrizRala(matriz_w.shape[0], matriz_w.shape[1])\n",
    "    \n",
    "    for i in range(matriz_w.shape[1]):\n",
    "        cj = 0\n",
    "        for j in range(matriz_w.shape[0]):\n",
    "            cj += matriz_w[j,i]\n",
    "        if cj != 0:\n",
    "            D[i,i] = 1 if (round(1/cj, 3) == 1) else round(1/cj , 3)\n",
    "        else:\n",
    "            D[i,i] = 0\n",
    "\n",
    "    return D\n",
    "\n",
    "D = build_d(W)\n",
    "print(D)"
   ]
  },
  {
   "cell_type": "markdown",
   "metadata": {},
   "source": [
    "En los próximos dos bloques de código, creamos la matriz identidad la cual será útil para GaussJordan y la matriz de unos necesaria para la fórmula que nos compete para hallar pestrella."
   ]
  },
  {
   "cell_type": "code",
   "execution_count": 135,
   "metadata": {},
   "outputs": [],
   "source": [
    "# Función generadora de la matriz identidad:\n",
    "def matriz_identidad(n,m):\n",
    "    matriz = MatrizRala(n,m)\n",
    "\n",
    "    for i in range(matriz.shape[1]):\n",
    "        matriz[i,i] = 1\n",
    "    return matriz"
   ]
  },
  {
   "cell_type": "code",
   "execution_count": 136,
   "metadata": {},
   "outputs": [],
   "source": [
    "# Función generadora de la matriz de unos:\n",
    "def matriz_de_unos(n,m):\n",
    "    matriz = MatrizRala(n,m)\n",
    "    for i in range(matriz.shape[0]):\n",
    "        for j in range(matriz.shape[1]):\n",
    "            matriz[i,j] = 1\n",
    "    return matriz"
   ]
  },
  {
   "cell_type": "markdown",
   "metadata": {},
   "source": [
    "A continuación se resuelve pestrella, el vector de probabilidades, con GaussJordan:"
   ]
  },
  {
   "cell_type": "code",
   "execution_count": 137,
   "metadata": {},
   "outputs": [
    {
     "name": "stdout",
     "output_type": "stream",
     "text": [
      "MatrizRala([ \n",
      "    [ 0.058261363636363646 ]\n",
      "    [ 0.030127242613636366 ]\n",
      "    [ 0.01363636363636364 ]\n",
      "    [ 0.01363636363636364 ]\n",
      "    [ 0.02522727272727273 ]\n",
      "    [ 0.11526591414834621 ]\n",
      "    [ 0.10016314298201158 ]\n",
      "    [ 0.04522825081337235 ]\n",
      "    [ 0.11161239066245791 ]\n",
      "    [ 0.04522825081337235 ]\n",
      "    [ 0.01363636363636364 ]\n",
      "])\n"
     ]
    }
   ],
   "source": [
    "# Inicialización de variables utilizadas posteriormente en GaussJordan:\n",
    "d = 0.85\n",
    "N = len_papers\n",
    "matriz_identidad = matriz_identidad(len_papers,len_papers)\n",
    "\n",
    "# Planteamos el sistema que nos interesa resolver con GaussJordan:\n",
    "A = (matriz_identidad - (d*W)@D)\n",
    "b = MatrizRala(len_papers,1)\n",
    "for i in range(len_papers):\n",
    "    b[i,0]= (1 - d)/N\n",
    "\n",
    "# Llamado a la función auxiliar GaussJordan\n",
    "pestrella = GaussJordan(A,b)\n",
    "print(pestrella)\n",
    "suma = 0 \n",
    "for i in range(len_papers):\n",
    "    suma = suma + pestrella[i,0]"
   ]
  },
  {
   "cell_type": "markdown",
   "metadata": {},
   "source": [
    "En cambio, en esta parte se resuelve de forma iterativa, no mediante GaussJordan, esto nos será útil para el próximo ejercicio, el 4. "
   ]
  },
  {
   "cell_type": "code",
   "execution_count": 138,
   "metadata": {},
   "outputs": [],
   "source": [
    "def P_it(d,N,W,D):\n",
    "    p_t = MatrizRala(N,1)\n",
    "    for i in range(N):\n",
    "        p_t[i,0] = 1/N\n",
    "\n",
    "    tolerance = 1e-6\n",
    "    errores = []\n",
    "    error = 1\n",
    "    \n",
    "    mat_unos = matriz_de_unos(N,1)\n",
    "    unoMenosDeSobreEne = ((1-d)/N) * mat_unos\n",
    "    d_W = d * W\n",
    "    d_WD = d_W @ D\n",
    "\n",
    "\n",
    "    while error > tolerance:\n",
    "        # Multiplica la matriz W_D por el vector p_t y escala por d\n",
    "        p_t_plus_1 = d_WD @ p_t\n",
    "        p_t_plus_1 = unoMenosDeSobreEne + p_t_plus_1\n",
    "        # Calcula el error máximo en esta iteración comparando el nuevo vector de PageRank con el anterior\n",
    "        error = max(abs(p_t_plus_1[i,0] - p_t[i,0]) for i in range(N))\n",
    "        errores.append(error)\n",
    "\n",
    "        # Actualiza el vector de PageRank para la próxima iteración\n",
    "        p_t = p_t_plus_1\n",
    "    return p_t, errores"
   ]
  },
  {
   "cell_type": "code",
   "execution_count": 139,
   "metadata": {},
   "outputs": [
    {
     "name": "stdout",
     "output_type": "stream",
     "text": [
      "\n",
      "\n",
      "Método iterativo de PageRank con distribución inicial equiprobable: MatrizRala([ \n",
      "    [ 0.058261363636363646 ]\n",
      "    [ 0.03012724261363637 ]\n",
      "    [ 0.01363636363636364 ]\n",
      "    [ 0.01363636363636364 ]\n",
      "    [ 0.02522727272727273 ]\n",
      "    [ 0.11526814567420816 ]\n",
      "    [ 0.10016511431015132 ]\n",
      "    [ 0.04522916790809512 ]\n",
      "    [ 0.111614852638223 ]\n",
      "    [ 0.04522916790809512 ]\n",
      "    [ 0.01363636363636364 ]\n",
      "])\n",
      "\n",
      "\n",
      "Errores en cada iteración: [0.15454545454545454, 0.13136363636363635, 0.07436495454545458, 0.04214540842670453, 0.03582359716269884, 0.017755237910082308, 0.01509195222356996, 0.012828159390034469, 0.004674446423264464, 0.004409460998151898, 0.0037480418484291123, 0.0031858355711647524, 0.0012630193597793216, 0.0010735664558124136, 0.0009125314874405543, 0.0006095648362662714, 0.0003920855587971894, 0.0003332727249776013, 0.00028328181623095416, 0.00011873459626447758, 0.00010092440682479831, 8.578574580107856e-05, 7.159629657625677e-05, 4.09047387925493e-05, 3.476902797366899e-05, 2.955367377761864e-05, 1.7820694891923505e-05, 1.2154539947503706e-05, 1.0331358955367742e-05, 8.781655112061193e-06, 5.024722874488741e-06, 4.192510330305876e-06, 3.563633780748199e-06, 2.5540723007783095e-06, 1.6337103869029646e-06, 1.3750076095359054e-06, 1.1417766664217899e-06, 7.780691837350195e-07]\n"
     ]
    }
   ],
   "source": [
    "pIt, errores = P_it(0.85,len_papers,W,D)\n",
    "print(\"\\n\\nMétodo iterativo de PageRank con distribución inicial equiprobable:\", pIt)\n",
    "print(\"\\n\\nErrores en cada iteración:\", errores)"
   ]
  },
  {
   "cell_type": "markdown",
   "metadata": {},
   "source": [
    "En los siguientes bloques se imprime la solución y posteriormente se compara gráficamente lo obtenido a partir de GaussJordan y el método iterativo. "
   ]
  },
  {
   "cell_type": "code",
   "execution_count": 140,
   "metadata": {},
   "outputs": [
    {
     "name": "stdout",
     "output_type": "stream",
     "text": [
      "Paper F: 0.11526591414834621\n",
      "Paper I: 0.11161239066245791\n",
      "Paper G: 0.10016314298201158\n",
      "Paper A: 0.058261363636363646\n",
      "Paper H: 0.04522825081337235\n",
      "Paper J: 0.04522825081337235\n",
      "Paper B: 0.030127242613636366\n",
      "Paper E: 0.02522727272727273\n",
      "Paper C: 0.01363636363636364\n",
      "Paper D: 0.01363636363636364\n",
      "Paper K: 0.01363636363636364\n"
     ]
    }
   ],
   "source": [
    "def print_ranking(pestrella):\n",
    "    # Crear una lista de tuplas (índice, valor)\n",
    "    ranking = [(i, pestrella[i,0]) for i in range((pestrella.shape[0]))]\n",
    "    \n",
    "    # Ordenar la lista en orden descendente por el valor\n",
    "    ranking.sort(key=lambda x: x[1], reverse=True)\n",
    "    \n",
    "    # Crear un diccionario para mapear los índices a las letras\n",
    "    letras = {0: 'A', 1: 'B', 2: 'C', 3: 'D', 4: 'E', 5: 'F', 6: 'G', 7: 'H', 8: 'I', 9: 'J', 10: 'K'}\n",
    "    \n",
    "    # Imprimir el ranking\n",
    "    for i, valor in ranking:\n",
    "        print(f'Paper {letras[i]}: {valor}')\n",
    "\n",
    "# Llamar a la función para imprimir el ranking\n",
    "print_ranking(pestrella)"
   ]
  },
  {
   "cell_type": "code",
   "execution_count": 141,
   "metadata": {},
   "outputs": [
    {
     "data": {
      "image/png": "[encoded data removed]",
      "text/plain": [
       "<Figure size 640x480 with 1 Axes>"
      ]
     },
     "metadata": {},
     "output_type": "display_data"
    }
   ],
   "source": [
    "# Función graficadora y comparadora de soluciones:\n",
    "def compare_and_plot(pIt, pestrella, errores):\n",
    "    diff_abs = [abs(pIt[i, 0] - pestrella[i, 0]) for i in range(len_papers)]\n",
    "    iteraciones = list(range(len(errores)))\n",
    "\n",
    "    plt.plot(iteraciones, errores, label='Error por iteración')\n",
    "    plt.xlabel('Iteraciones')\n",
    "    plt.ylabel('Error')\n",
    "    plt.title('Convergencia del método iterativo')\n",
    "    plt.legend()\n",
    "    plt.show()\n",
    "\n",
    "compare_and_plot(pIt, pestrella, errores)"
   ]
  },
  {
   "cell_type": "code",
   "execution_count": null,
   "metadata": {},
   "outputs": [],
   "source": []
  }
 ],
 "metadata": {
  "kernelspec": {
   "display_name": "Python 3",
   "language": "python",
   "name": "python3"
  },
  "language_info": {
   "codemirror_mode": {
    "name": "ipython",
    "version": 3
   },
   "file_extension": ".py",
   "mimetype": "text/x-python",
   "name": "python",
   "nbconvert_exporter": "python",
   "pygments_lexer": "ipython3",
   "version": "3.12.0"
  }
 },
 "nbformat": 4,
 "nbformat_minor": 2
}
