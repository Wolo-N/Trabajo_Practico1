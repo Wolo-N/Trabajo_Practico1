{
 "cells": [
  {
   "cell_type": "code",
   "execution_count": 20,
   "metadata": {},
   "outputs": [],
   "source": [
    "import csv\n",
    "from matricesRalas import MatrizRala"
   ]
  },
  {
   "cell_type": "code",
   "execution_count": 21,
   "metadata": {},
   "outputs": [],
   "source": [
    "def cargar_citas_csv():\n",
    "    archivo_citas = \"papers/citas.csv\"\n",
    "    lista_citas = []\n",
    "    with open(archivo_citas, newline='', encoding='utf-8') as csvfile:\n",
    "        lector_citas = csv.reader(csvfile)\n",
    "        next(lector_citas)  # Skip the header row\n",
    "        for cita, citado in lector_citas:\n",
    "            lista_citas.append((int(cita),int(citado)))\n",
    "    return lista_citas"
   ]
  },
  {
   "cell_type": "code",
   "execution_count": 22,
   "metadata": {},
   "outputs": [],
   "source": [
    "def cargar_papers():\n",
    "    archivo_papers = \"papers/papers.csv\"\n",
    "    # Lista para almacenar los datos de los papers\n",
    "    lista_papers = []\n",
    "\n",
    "    # Abrir el archivo CSV para leer los datos\n",
    "    with open(archivo_papers, mode='r', encoding='utf-8') as csvfile:\n",
    "        # Crear un objeto reader de CSV\n",
    "        reader = csv.DictReader(csvfile)\n",
    "        \n",
    "        # Recorrer las filas del archivo CSV\n",
    "        for fila in reader:\n",
    "            # Añadir cada fila como un diccionario a la lista\n",
    "            lista_papers.append([\n",
    "                fila['id'],\n",
    "                fila['titulo'],\n",
    "                fila['autores'],\n",
    "                fila['anio']\n",
    "            ])\n",
    "\n",
    "    return lista_papers"
   ]
  },
  {
   "cell_type": "code",
   "execution_count": 23,
   "metadata": {},
   "outputs": [],
   "source": [
    "def genW(lista_citas, lista_papers):\n",
    "    W = MatrizRala(len(lista_papers), len(lista_papers))\n",
    "    for citador, citado in lista_citas:\n",
    "        W[citador, citado] = 1\n",
    "    return W"
   ]
  },
  {
   "cell_type": "code",
   "execution_count": 24,
   "metadata": {},
   "outputs": [],
   "source": [
    "def genD(W):\n",
    "    D = MatrizRala(W.shape[0], W.shape[1])\n",
    "    for i in W.filas:\n",
    "        cj = 0\n",
    "        current_node = W.filas[i].raiz\n",
    "        while current_node:\n",
    "            cj += current_node.valor[1]  # Assume valor is a tuple (column_index, value)\n",
    "            current_node = current_node.siguiente\n",
    "        if cj > 0:\n",
    "            D[i, i] = 1 / cj\n",
    "    return D\n"
   ]
  },
  {
   "cell_type": "code",
   "execution_count": 25,
   "metadata": {},
   "outputs": [],
   "source": [
    "def matriz_de_unos(n,m):\n",
    "    matriz = MatrizRala(n,m)\n",
    "    for i in range(matriz.shape[0]):\n",
    "        for j in range(matriz.shape[1]):\n",
    "            matriz[i,j] = 1\n",
    "    return matriz"
   ]
  },
  {
   "cell_type": "code",
   "execution_count": 26,
   "metadata": {},
   "outputs": [],
   "source": [
    "def P_it(d,N,W,D):\n",
    "    p_t = MatrizRala(N,1)     # Initial equiprobable distribution\n",
    "    for i in range(N):\n",
    "        p_t[i,0] = 1/N\n",
    "\n",
    "    tolerance = 1e-6\n",
    "    errores = []\n",
    "    error = 1\n",
    "\n",
    "    mat_unos = matriz_de_unos(N,1)\n",
    "    unoMenosDeSobreEne = ((1-d)/N) * mat_unos\n",
    "    d_W = d * W\n",
    "    d_WD = d_W @ D\n",
    "\n",
    "\n",
    "    while error > tolerance:\n",
    "        # Multiplica la matriz W_D por el vector p_t y escala por d\n",
    "        p_t_plus_1 = d_WD @ p_t\n",
    "        p_t_plus_1 = unoMenosDeSobreEne + p_t_plus_1\n",
    "        # Calcula el error máximo en esta iteración comparando el nuevo vector de PageRank con el anterior\n",
    "        error = max(abs(p_t_plus_1[i,0] - p_t[i,0]) for i in range(N))\n",
    "        errores.append(error)\n",
    "\n",
    "        # Actualiza el vector de PageRank para la próxima iteración\n",
    "        p_t = p_t_plus_1\n",
    "    return p_t, errores"
   ]
  }
 ],
 "metadata": {
  "kernelspec": {
   "display_name": "Python 3",
   "language": "python",
   "name": "python3"
  },
  "language_info": {
   "codemirror_mode": {
    "name": "ipython",
    "version": 3
   },
   "file_extension": ".py",
   "mimetype": "text/x-python",
   "name": "python",
   "nbconvert_exporter": "python",
   "pygments_lexer": "ipython3",
   "version": "3.12.0"
  }
 },
 "nbformat": 4,
 "nbformat_minor": 2
}
