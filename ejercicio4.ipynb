{
 "cells": [
  {
   "cell_type": "code",
   "execution_count": 52,
   "metadata": {},
   "outputs": [],
   "source": [
    "import pandas as pd\n",
    "from matricesRalas import *"
   ]
  },
  {
   "cell_type": "code",
   "execution_count": 53,
   "metadata": {},
   "outputs": [],
   "source": [
    "papers = pd.read_csv('papers/papers.csv', header = 0)\n",
    "citas = pd.read_csv('papers/citas.csv', header = 0)"
   ]
  },
  {
   "cell_type": "code",
   "execution_count": 54,
   "metadata": {},
   "outputs": [],
   "source": [
    "def genW(lista_citas, lista_papers):\n",
    "    W = MatrizRala(len(lista_papers), len(lista_papers))\n",
    "    for citador, citado in lista_citas:\n",
    "        W[citador, citado] = 1\n",
    "    return W"
   ]
  },
  {
   "cell_type": "code",
   "execution_count": 55,
   "metadata": {},
   "outputs": [],
   "source": [
    "def genD(W):\n",
    "    D = MatrizRala(W.shape[0], W.shape[1])\n",
    "    for i in W.filas:\n",
    "        cj = 0\n",
    "        current_node = W.filas[i].raiz\n",
    "        while current_node:\n",
    "            cj += current_node.valor[1]  # Assume valor is a tuple (column_index, value)\n",
    "            current_node = current_node.siguiente\n",
    "        if cj > 0:\n",
    "            D[i, i] = 1 / cj\n",
    "    return D\n"
   ]
  },
  {
   "cell_type": "code",
   "execution_count": 56,
   "metadata": {},
   "outputs": [],
   "source": [
    "def matriz_de_unos(n,m):\n",
    "    matriz = MatrizRala(n,m)\n",
    "    for i in range(matriz.shape[0]):\n",
    "        for j in range(matriz.shape[1]):\n",
    "            matriz[i,j] = 1\n",
    "    return matriz"
   ]
  },
  {
   "cell_type": "code",
   "execution_count": 57,
   "metadata": {},
   "outputs": [],
   "source": [
    "def P_it(d,N,W,D):\n",
    "    p_t = MatrizRala(N,1)     # Initial equiprobable distribution\n",
    "    for i in range(N):\n",
    "        p_t[i,0] = 1/N\n",
    "\n",
    "    tolerance = 1e-6\n",
    "    errores = []\n",
    "    error = 1\n",
    "\n",
    "    mat_unos = matriz_de_unos(N,1)\n",
    "    unoMenosDeSobreEne = ((1-d)/N) * mat_unos\n",
    "    d_W = d * W\n",
    "    d_WD = d_W @ D\n",
    "\n",
    "\n",
    "    while error > tolerance:\n",
    "        # Multiplica la matriz W_D por el vector p_t y escala por d\n",
    "        p_t_plus_1 = d_WD @ p_t\n",
    "        p_t_plus_1 = unoMenosDeSobreEne + p_t_plus_1\n",
    "        # Calcula el error máximo en esta iteración comparando el nuevo vector de PageRank con el anterior\n",
    "        error = max(abs(p_t_plus_1[i,0] - p_t[i,0]) for i in range(N))\n",
    "        errores.append(error)\n",
    "\n",
    "        # Actualiza el vector de PageRank para la próxima iteración\n",
    "        p_t = p_t_plus_1\n",
    "    return p_t, errores"
   ]
  },
  {
   "cell_type": "code",
   "execution_count": 58,
   "metadata": {},
   "outputs": [
    {
     "name": "stdout",
     "output_type": "stream",
     "text": [
      "Top 10 Papers by PageRank:\n",
      "1. Paper ID: 513215, Title: \"A compendium of key search references\", Score: 0.000026\n",
      "2. Paper ID: 216749, Title: \"Query evaluation techniques for large databases\", Score: 0.000020\n",
      "3. Paper ID: 326101, Title: \"Query Optimization in Database Systems\", Score: 0.000015\n",
      "4. Paper ID: 517708, Title: \"Principles and realization strategies of multilevel transaction management\", Score: 0.000015\n",
      "5. Paper ID: 553986, Title: \"A survey of extensions to APL\", Score: 0.000015\n",
      "6. Paper ID: 304647, Title: \"Hundreds of impossibility results for distributed computing\", Score: 0.000012\n",
      "7. Paper ID: 465154, Title: \"What have we learnt from using real parallel machines to solve real problems?\", Score: 0.000012\n",
      "8. Paper ID: 168601, Title: \"Survey on special purpose computer architectures for AI\", Score: 0.000012\n",
      "9. Paper ID: 315296, Title: \"A survey of the literature in computer science education since curriculum '68\", Score: 0.000011\n",
      "10. Paper ID: 509822, Title: \"An updated cross-indexed guide to the ray-tracing literature\", Score: 0.000011\n"
     ]
    }
   ],
   "source": [
    "def main():\n",
    "    \n",
    "    # Llamar a la función y pasar la ruta al archivo CSV\n",
    "    lista_citas = cargar_citas_csv()\n",
    "    lista_papers = cargar_papers()\n",
    "\n",
    "    W = genW(lista_citas,lista_papers)\n",
    "    \n",
    "    D = genD(W)\n",
    "    N = len(lista_papers)\n",
    "    d = 0.85\n",
    "\n",
    "    page_ranks = P_it(d, N, W, D)\n",
    "    \n",
    "    # Create list of (PageRank score, index)\n",
    "    lista = [(page_ranks[0][i, 0], i) for i in range(len(lista_papers))]\n",
    "\n",
    "    # Sort by PageRank score in descending order\n",
    "    sorted_papers = sorted(lista, key=lambda x: x[0], reverse=True)\n",
    "\n",
    "    # Print the top 10 papers with podium ranking\n",
    "    print(\"Top 10 Papers by PageRank:\")\n",
    "    for rank, (score, index) in enumerate(sorted_papers[:10], start=1):\n",
    "        print(f\"{rank}. Paper ID: {lista_papers[index][0]}, Title: \\\"{lista_papers[index][1]}\\\", Score: {score:.6f}\")\n",
    "\n",
    "\n",
    "if __name__ == \"__main__\":\n",
    "    main()"
   ]
  }
 ],
 "metadata": {
  "kernelspec": {
   "display_name": "Python 3",
   "language": "python",
   "name": "python3"
  },
  "language_info": {
   "codemirror_mode": {
    "name": "ipython",
    "version": 3
   },
   "file_extension": ".py",
   "mimetype": "text/x-python",
   "name": "python",
   "nbconvert_exporter": "python",
   "pygments_lexer": "ipython3",
   "version": "3.12.0"
  }
 },
 "nbformat": 4,
 "nbformat_minor": 2
}
